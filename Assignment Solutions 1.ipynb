{
 "cells": [
  {
   "cell_type": "markdown",
   "id": "f46bbc4e-5bc0-4d17-a24a-fe442d179c1b",
   "metadata": {},
   "source": [
    "# Assignment 1 Solution\n",
    "\n",
    "**Objective:** - Predict Next Sequence To start with deep learning, the very basic project that you can build is to predict the next digit in a sequence.\n",
    "\n",
    "**Dataset:** - Create a sequence like a list of odd numbers and then build a model and train it to predict the next digit in the sequence.\n",
    "\n",
    "**Task:** - A simple neural network with 2 layers would be sufficient to build the model."
   ]
  },
  {
   "cell_type": "code",
   "execution_count": 2,
   "id": "17c7def0-b2d0-4a1c-89a3-58fb149915f4",
   "metadata": {},
   "outputs": [],
   "source": [
    "import numpy as np\n",
    "from tensorflow import keras\n",
    "from tensorflow.keras.models import Sequential\n",
    "from tensorflow.keras.layers import Dense"
   ]
  },
  {
   "cell_type": "code",
   "execution_count": 3,
   "id": "8bef9483-f55b-4c17-8cec-827b07a72818",
   "metadata": {},
   "outputs": [],
   "source": [
    "# Create a sequence of odd numbers\n",
    "data = np.array([1, 3, 5, 7, 9, 11, 13, 15])"
   ]
  },
  {
   "cell_type": "code",
   "execution_count": 4,
   "id": "650853a1-3985-4ddb-91c8-a2af062c1f51",
   "metadata": {},
   "outputs": [],
   "source": [
    "# Split the data into input (X) and output (y) variables\n",
    "X = data[:-1]\n",
    "y = data[1:]"
   ]
  },
  {
   "cell_type": "code",
   "execution_count": 5,
   "id": "e822cbdf-2175-465c-ac11-db49e5643bfe",
   "metadata": {},
   "outputs": [],
   "source": [
    "# Define the model\n",
    "model = Sequential()\n",
    "model.add(Dense(2, input_dim=1))\n",
    "model.add(Dense(1))\n",
    "model.compile(loss='mean_squared_error', optimizer='adam')"
   ]
  },
  {
   "cell_type": "code",
   "execution_count": null,
   "id": "a4dfea35-1bfd-40fa-9478-e7ab37448b62",
   "metadata": {},
   "outputs": [],
   "source": []
  }
 ],
 "metadata": {
  "kernelspec": {
   "display_name": "Python 3 (ipykernel)",
   "language": "python",
   "name": "python3"
  },
  "language_info": {
   "codemirror_mode": {
    "name": "ipython",
    "version": 3
   },
   "file_extension": ".py",
   "mimetype": "text/x-python",
   "name": "python",
   "nbconvert_exporter": "python",
   "pygments_lexer": "ipython3",
   "version": "3.10.10"
  }
 },
 "nbformat": 4,
 "nbformat_minor": 5
}
